{
 "cells": [
  {
   "cell_type": "markdown",
   "metadata": {},
   "source": [
    "PART 1: INITIALIZING EXPERIMENT OBJECT"
   ]
  },
  {
   "cell_type": "code",
   "execution_count": null,
   "metadata": {},
   "outputs": [],
   "source": [
    "import os\n",
    "from eelbrain import *\n",
    "\n",
    "os.chdir('/bcbl/home/public/EEL-Hack/Scripts/for_github/')\n",
    "\n",
    "from eelhack_sentences import *"
   ]
  },
  {
   "cell_type": "code",
   "execution_count": null,
   "metadata": {},
   "outputs": [],
   "source": [
    "data = eelhack.load_events()\n",
    "epochs = eelhack.load_epochs()"
   ]
  },
  {
   "cell_type": "markdown",
   "metadata": {},
   "source": [
    "PART 2: VISUALIZING THE DATAFRAMES"
   ]
  },
  {
   "cell_type": "code",
   "execution_count": 3,
   "metadata": {},
   "outputs": [
    {
     "data": {
      "text/html": [
       "<figure><table border=\"1\" frame=\"hsides\" rules=\"none\" cellpadding=\"2\"><tr>\n",
       "<td style=\"text-align:left\">i_start</td>\n",
       "<td style=\"text-align:left\">trigger</td>\n",
       "<td style=\"text-align:left\">event</td>\n",
       "<td style=\"text-align:left\">T</td>\n",
       "<td style=\"text-align:left\">SOA</td>\n",
       "<td style=\"text-align:left\">subject</td>\n",
       "<td style=\"text-align:left\">stimulus</td>\n",
       "<td style=\"text-align:left\">duration</td>\n",
       "</tr>\n",
       "<tr>\n",
       "<td style=\"text-align:left\">-66</td>\n",
       "<td style=\"text-align:left\">1</td>\n",
       "<td style=\"text-align:left\">Stimulus/S  1</td>\n",
       "<td style=\"text-align:left\">-0.066</td>\n",
       "<td style=\"text-align:left\">34.93</td>\n",
       "<td style=\"text-align:left\">sub-01</td>\n",
       "<td style=\"text-align:left\"></td>\n",
       "<td style=\"text-align:left\">0</td>\n",
       "</tr>\n",
       "<tr>\n",
       "<td style=\"text-align:left\">34864</td>\n",
       "<td style=\"text-align:left\">183</td>\n",
       "<td style=\"text-align:left\">Stimulus/S183</td>\n",
       "<td style=\"text-align:left\">34.864</td>\n",
       "<td style=\"text-align:left\">4.747</td>\n",
       "<td style=\"text-align:left\">sub-01</td>\n",
       "<td style=\"text-align:left\"></td>\n",
       "<td style=\"text-align:left\">0</td>\n",
       "</tr>\n",
       "<tr>\n",
       "<td style=\"text-align:left\">39611</td>\n",
       "<td style=\"text-align:left\">2</td>\n",
       "<td style=\"text-align:left\">Stimulus/S  2</td>\n",
       "<td style=\"text-align:left\">39.611</td>\n",
       "<td style=\"text-align:left\">8.835</td>\n",
       "<td style=\"text-align:left\">sub-01</td>\n",
       "<td style=\"text-align:left\">sentence</td>\n",
       "<td style=\"text-align:left\">10.434</td>\n",
       "</tr>\n",
       "<tr>\n",
       "<td style=\"text-align:left\">48446</td>\n",
       "<td style=\"text-align:left\">92</td>\n",
       "<td style=\"text-align:left\">Stimulus/S 92</td>\n",
       "<td style=\"text-align:left\">48.446</td>\n",
       "<td style=\"text-align:left\">1.599</td>\n",
       "<td style=\"text-align:left\">sub-01</td>\n",
       "<td style=\"text-align:left\"></td>\n",
       "<td style=\"text-align:left\">0</td>\n",
       "</tr>\n",
       "<tr>\n",
       "<td style=\"text-align:left\">50045</td>\n",
       "<td style=\"text-align:left\">3</td>\n",
       "<td style=\"text-align:left\">Stimulus/S  3</td>\n",
       "<td style=\"text-align:left\">50.045</td>\n",
       "<td style=\"text-align:left\">5.193</td>\n",
       "<td style=\"text-align:left\">sub-01</td>\n",
       "<td style=\"text-align:left\">sentence</td>\n",
       "<td style=\"text-align:left\">7.459</td>\n",
       "</tr>\n",
       "<tr>\n",
       "<td style=\"text-align:left\">55238</td>\n",
       "<td style=\"text-align:left\">137</td>\n",
       "<td style=\"text-align:left\">Stimulus/S137</td>\n",
       "<td style=\"text-align:left\">55.238</td>\n",
       "<td style=\"text-align:left\">2.266</td>\n",
       "<td style=\"text-align:left\">sub-01</td>\n",
       "<td style=\"text-align:left\"></td>\n",
       "<td style=\"text-align:left\">0</td>\n",
       "</tr>\n",
       "<tr>\n",
       "<td style=\"text-align:left\">57504</td>\n",
       "<td style=\"text-align:left\">4</td>\n",
       "<td style=\"text-align:left\">Stimulus/S  4</td>\n",
       "<td style=\"text-align:left\">57.504</td>\n",
       "<td style=\"text-align:left\">4.034</td>\n",
       "<td style=\"text-align:left\">sub-01</td>\n",
       "<td style=\"text-align:left\">sentence</td>\n",
       "<td style=\"text-align:left\">5.592</td>\n",
       "</tr>\n",
       "<tr>\n",
       "<td style=\"text-align:left\">61538</td>\n",
       "<td style=\"text-align:left\">138</td>\n",
       "<td style=\"text-align:left\">Stimulus/S138</td>\n",
       "<td style=\"text-align:left\">61.538</td>\n",
       "<td style=\"text-align:left\">1.558</td>\n",
       "<td style=\"text-align:left\">sub-01</td>\n",
       "<td style=\"text-align:left\"></td>\n",
       "<td style=\"text-align:left\">0</td>\n",
       "</tr>\n",
       "<tr>\n",
       "<td style=\"text-align:left\">63096</td>\n",
       "<td style=\"text-align:left\">5</td>\n",
       "<td style=\"text-align:left\">Stimulus/S  5</td>\n",
       "<td style=\"text-align:left\">63.096</td>\n",
       "<td style=\"text-align:left\">7.02</td>\n",
       "<td style=\"text-align:left\">sub-01</td>\n",
       "<td style=\"text-align:left\">sentence</td>\n",
       "<td style=\"text-align:left\">8.566</td>\n",
       "</tr>\n",
       "<tr>\n",
       "<td style=\"text-align:left\">70116</td>\n",
       "<td style=\"text-align:left\">139</td>\n",
       "<td style=\"text-align:left\">Stimulus/S139</td>\n",
       "<td style=\"text-align:left\">70.116</td>\n",
       "<td style=\"text-align:left\">1.546</td>\n",
       "<td style=\"text-align:left\">sub-01</td>\n",
       "<td style=\"text-align:left\"></td>\n",
       "<td style=\"text-align:left\">0</td>\n",
       "</tr></table></figure>"
      ],
      "text/plain": [
       "i_start   trigger   event           T        SOA     subject   stimulus   duration\n",
       "----------------------------------------------------------------------------------\n",
       "-66       1         Stimulus/S  1   -0.066   34.93   sub-01               0       \n",
       "34864     183       Stimulus/S183   34.864   4.747   sub-01               0       \n",
       "39611     2         Stimulus/S  2   39.611   8.835   sub-01    sentence   10.434  \n",
       "48446     92        Stimulus/S 92   48.446   1.599   sub-01               0       \n",
       "50045     3         Stimulus/S  3   50.045   5.193   sub-01    sentence   7.459   \n",
       "55238     137       Stimulus/S137   55.238   2.266   sub-01               0       \n",
       "57504     4         Stimulus/S  4   57.504   4.034   sub-01    sentence   5.592   \n",
       "61538     138       Stimulus/S138   61.538   1.558   sub-01               0       \n",
       "63096     5         Stimulus/S  5   63.096   7.02    sub-01    sentence   8.566   \n",
       "70116     139       Stimulus/S139   70.116   1.546   sub-01               0       "
      ]
     },
     "execution_count": 3,
     "metadata": {},
     "output_type": "execute_result"
    }
   ],
   "source": [
    "data.head()\n"
   ]
  },
  {
   "cell_type": "code",
   "execution_count": 9,
   "metadata": {},
   "outputs": [
    {
     "data": {
      "text/html": [
       "<figure><table border=\"1\" frame=\"hsides\" rules=\"none\" cellpadding=\"2\"><tr>\n",
       "<td style=\"text-align:left\">i_start</td>\n",
       "<td style=\"text-align:left\">trigger</td>\n",
       "<td style=\"text-align:left\">event</td>\n",
       "<td style=\"text-align:left\">T</td>\n",
       "<td style=\"text-align:left\">SOA</td>\n",
       "<td style=\"text-align:left\">subject</td>\n",
       "<td style=\"text-align:left\">stimulus</td>\n",
       "<td style=\"text-align:left\">duration</td>\n",
       "<td style=\"text-align:left\">index</td>\n",
       "<td style=\"text-align:left\">eeg</td>\n",
       "<td style=\"text-align:left\">eog</td>\n",
       "</tr>\n",
       "<tr>\n",
       "<td style=\"text-align:left\">39743</td>\n",
       "<td style=\"text-align:left\">2</td>\n",
       "<td style=\"text-align:left\">Stimulus/S  2</td>\n",
       "<td style=\"text-align:left\">39.743</td>\n",
       "<td style=\"text-align:left\">8.835</td>\n",
       "<td style=\"text-align:left\">sub-01</td>\n",
       "<td style=\"text-align:left\">sentence</td>\n",
       "<td style=\"text-align:left\">10.434</td>\n",
       "<td style=\"text-align:left\">0</td>\n",
       "<td style=\"text-align:left\">&lt;NDVar 'eeg'...</td>\n",
       "<td style=\"text-align:left\">&lt;NDVar 'eog'...</td>\n",
       "</tr>\n",
       "<tr>\n",
       "<td style=\"text-align:left\">50177</td>\n",
       "<td style=\"text-align:left\">3</td>\n",
       "<td style=\"text-align:left\">Stimulus/S  3</td>\n",
       "<td style=\"text-align:left\">50.177</td>\n",
       "<td style=\"text-align:left\">5.193</td>\n",
       "<td style=\"text-align:left\">sub-01</td>\n",
       "<td style=\"text-align:left\">sentence</td>\n",
       "<td style=\"text-align:left\">7.459</td>\n",
       "<td style=\"text-align:left\">1</td>\n",
       "<td style=\"text-align:left\">&lt;NDVar 'eeg'...</td>\n",
       "<td style=\"text-align:left\">&lt;NDVar 'eog'...</td>\n",
       "</tr>\n",
       "<tr>\n",
       "<td style=\"text-align:left\">57636</td>\n",
       "<td style=\"text-align:left\">4</td>\n",
       "<td style=\"text-align:left\">Stimulus/S  4</td>\n",
       "<td style=\"text-align:left\">57.636</td>\n",
       "<td style=\"text-align:left\">4.034</td>\n",
       "<td style=\"text-align:left\">sub-01</td>\n",
       "<td style=\"text-align:left\">sentence</td>\n",
       "<td style=\"text-align:left\">5.592</td>\n",
       "<td style=\"text-align:left\">2</td>\n",
       "<td style=\"text-align:left\">&lt;NDVar 'eeg'...</td>\n",
       "<td style=\"text-align:left\">&lt;NDVar 'eog'...</td>\n",
       "</tr>\n",
       "<tr>\n",
       "<td style=\"text-align:left\">63228</td>\n",
       "<td style=\"text-align:left\">5</td>\n",
       "<td style=\"text-align:left\">Stimulus/S  5</td>\n",
       "<td style=\"text-align:left\">63.228</td>\n",
       "<td style=\"text-align:left\">7.02</td>\n",
       "<td style=\"text-align:left\">sub-01</td>\n",
       "<td style=\"text-align:left\">sentence</td>\n",
       "<td style=\"text-align:left\">8.566</td>\n",
       "<td style=\"text-align:left\">3</td>\n",
       "<td style=\"text-align:left\">&lt;NDVar 'eeg'...</td>\n",
       "<td style=\"text-align:left\">&lt;NDVar 'eog'...</td>\n",
       "</tr>\n",
       "<tr>\n",
       "<td style=\"text-align:left\">71794</td>\n",
       "<td style=\"text-align:left\">6</td>\n",
       "<td style=\"text-align:left\">Stimulus/S  6</td>\n",
       "<td style=\"text-align:left\">71.794</td>\n",
       "<td style=\"text-align:left\">7.241</td>\n",
       "<td style=\"text-align:left\">sub-01</td>\n",
       "<td style=\"text-align:left\">sentence</td>\n",
       "<td style=\"text-align:left\">8.524</td>\n",
       "<td style=\"text-align:left\">4</td>\n",
       "<td style=\"text-align:left\">&lt;NDVar 'eeg'...</td>\n",
       "<td style=\"text-align:left\">&lt;NDVar 'eog'...</td>\n",
       "</tr>\n",
       "<tr>\n",
       "<td style=\"text-align:left\">80318</td>\n",
       "<td style=\"text-align:left\">7</td>\n",
       "<td style=\"text-align:left\">Stimulus/S  7</td>\n",
       "<td style=\"text-align:left\">80.318</td>\n",
       "<td style=\"text-align:left\">5.913</td>\n",
       "<td style=\"text-align:left\">sub-01</td>\n",
       "<td style=\"text-align:left\">sentence</td>\n",
       "<td style=\"text-align:left\">7.178</td>\n",
       "<td style=\"text-align:left\">5</td>\n",
       "<td style=\"text-align:left\">&lt;NDVar 'eeg'...</td>\n",
       "<td style=\"text-align:left\">&lt;NDVar 'eog'...</td>\n",
       "</tr>\n",
       "<tr>\n",
       "<td style=\"text-align:left\">87496</td>\n",
       "<td style=\"text-align:left\">8</td>\n",
       "<td style=\"text-align:left\">Stimulus/S  8</td>\n",
       "<td style=\"text-align:left\">87.496</td>\n",
       "<td style=\"text-align:left\">8.194</td>\n",
       "<td style=\"text-align:left\">sub-01</td>\n",
       "<td style=\"text-align:left\">sentence</td>\n",
       "<td style=\"text-align:left\">10.275</td>\n",
       "<td style=\"text-align:left\">6</td>\n",
       "<td style=\"text-align:left\">&lt;NDVar 'eeg'...</td>\n",
       "<td style=\"text-align:left\">&lt;NDVar 'eog'...</td>\n",
       "</tr>\n",
       "<tr>\n",
       "<td style=\"text-align:left\">97771</td>\n",
       "<td style=\"text-align:left\">9</td>\n",
       "<td style=\"text-align:left\">Stimulus/S  9</td>\n",
       "<td style=\"text-align:left\">97.771</td>\n",
       "<td style=\"text-align:left\">8.151</td>\n",
       "<td style=\"text-align:left\">sub-01</td>\n",
       "<td style=\"text-align:left\">sentence</td>\n",
       "<td style=\"text-align:left\">9.823</td>\n",
       "<td style=\"text-align:left\">7</td>\n",
       "<td style=\"text-align:left\">&lt;NDVar 'eeg'...</td>\n",
       "<td style=\"text-align:left\">&lt;NDVar 'eog'...</td>\n",
       "</tr>\n",
       "<tr>\n",
       "<td style=\"text-align:left\">107594</td>\n",
       "<td style=\"text-align:left\">10</td>\n",
       "<td style=\"text-align:left\">Stimulus/S 10</td>\n",
       "<td style=\"text-align:left\">107.59</td>\n",
       "<td style=\"text-align:left\">4.812</td>\n",
       "<td style=\"text-align:left\">sub-01</td>\n",
       "<td style=\"text-align:left\">sentence</td>\n",
       "<td style=\"text-align:left\">6.459</td>\n",
       "<td style=\"text-align:left\">8</td>\n",
       "<td style=\"text-align:left\">&lt;NDVar 'eeg'...</td>\n",
       "<td style=\"text-align:left\">&lt;NDVar 'eog'...</td>\n",
       "</tr>\n",
       "<tr>\n",
       "<td style=\"text-align:left\">114053</td>\n",
       "<td style=\"text-align:left\">11</td>\n",
       "<td style=\"text-align:left\">Stimulus/S 11</td>\n",
       "<td style=\"text-align:left\">114.05</td>\n",
       "<td style=\"text-align:left\">11.977</td>\n",
       "<td style=\"text-align:left\">sub-01</td>\n",
       "<td style=\"text-align:left\">sentence</td>\n",
       "<td style=\"text-align:left\">13.831</td>\n",
       "<td style=\"text-align:left\">9</td>\n",
       "<td style=\"text-align:left\">&lt;NDVar 'eeg'...</td>\n",
       "<td style=\"text-align:left\">&lt;NDVar 'eog'...</td>\n",
       "</tr></table></figure>"
      ],
      "text/plain": [
       "i_start   trigger   event           T        SOA      subject   stimulus   duration   index   eeg               eog            \n",
       "-------------------------------------------------------------------------------------------------------------------------------\n",
       "39743     2         Stimulus/S  2   39.743   8.835    sub-01    sentence   10.434     0       <NDVar 'eeg'...   <NDVar 'eog'...\n",
       "50177     3         Stimulus/S  3   50.177   5.193    sub-01    sentence   7.459      1       <NDVar 'eeg'...   <NDVar 'eog'...\n",
       "57636     4         Stimulus/S  4   57.636   4.034    sub-01    sentence   5.592      2       <NDVar 'eeg'...   <NDVar 'eog'...\n",
       "63228     5         Stimulus/S  5   63.228   7.02     sub-01    sentence   8.566      3       <NDVar 'eeg'...   <NDVar 'eog'...\n",
       "71794     6         Stimulus/S  6   71.794   7.241    sub-01    sentence   8.524      4       <NDVar 'eeg'...   <NDVar 'eog'...\n",
       "80318     7         Stimulus/S  7   80.318   5.913    sub-01    sentence   7.178      5       <NDVar 'eeg'...   <NDVar 'eog'...\n",
       "87496     8         Stimulus/S  8   87.496   8.194    sub-01    sentence   10.275     6       <NDVar 'eeg'...   <NDVar 'eog'...\n",
       "97771     9         Stimulus/S  9   97.771   8.151    sub-01    sentence   9.823      7       <NDVar 'eeg'...   <NDVar 'eog'...\n",
       "107594    10        Stimulus/S 10   107.59   4.812    sub-01    sentence   6.459      8       <NDVar 'eeg'...   <NDVar 'eog'...\n",
       "114053    11        Stimulus/S 11   114.05   11.977   sub-01    sentence   13.831     9       <NDVar 'eeg'...   <NDVar 'eog'..."
      ]
     },
     "execution_count": 9,
     "metadata": {},
     "output_type": "execute_result"
    }
   ],
   "source": [
    "epochs.head()  "
   ]
  },
  {
   "cell_type": "code",
   "execution_count": 4,
   "metadata": {},
   "outputs": [],
   "source": [
    "epochs.save_pickled('/bcbl/home/public/EEL-Hack/Scripts/epochs.pickle') # We save the epochs that we will use to create matching predictors ('make_predictors_sentences' script)"
   ]
  },
  {
   "cell_type": "markdown",
   "metadata": {},
   "source": [
    "PART 3: COMPUTING TRF % plotting"
   ]
  },
  {
   "cell_type": "code",
   "execution_count": 2,
   "metadata": {},
   "outputs": [],
   "source": [
    "trf = eelhack.load_trfs( subject = 'sub-01', x = 'auditory-envelope', **PARAMETERS, make=True) # The parameters are specified in the 'eelhack_sentences' script  "
   ]
  },
  {
   "cell_type": "code",
   "execution_count": 6,
   "metadata": {},
   "outputs": [
    {
     "data": {
      "text/html": [
       "<figure><table border=\"1\" frame=\"hsides\" rules=\"none\" cellpadding=\"2\"><tr>\n",
       "<td style=\"text-align:left\">subject</td>\n",
       "<td style=\"text-align:left\">epoch</td>\n",
       "</tr>\n",
       "<tr>\n",
       "<td style=\"text-align:left\">sub-01</td>\n",
       "<td style=\"text-align:left\">sentences</td>\n",
       "</tr></table>\n",
       "<figcaption>NDVars: r, residual, det, z, gammatone_1, gammatonon_1</figcaption></figure>"
      ],
      "text/plain": [
       "<Dataset 'model0' (1 cases) 'subject':F, 'epoch':F, 'r':Vnd, 'residual':Vnd, 'det':Vnd, 'z':Vnd, 'gammatone_1':Vnd, 'gammatonon_1':Vnd>"
      ]
     },
     "execution_count": 6,
     "metadata": {},
     "output_type": "execute_result"
    }
   ],
   "source": [
    "trf"
   ]
  },
  {
   "cell_type": "code",
   "execution_count": 13,
   "metadata": {},
   "outputs": [
    {
     "data": {
      "image/png": "[encoded data removed]",
      "text/plain": [
       "<Figure size 800x400 with 1 Axes>"
      ]
     },
     "metadata": {},
     "output_type": "display_data"
    }
   ],
   "source": [
    "trf_temp = trf['gammatone_1'].sub(sensor='Cz')\n",
    "\n",
    "p = plot.UTS(trf_temp, bottom = -0.0025, top = 0.0005)"
   ]
  }
 ],
 "metadata": {
  "kernelspec": {
   "display_name": "Python 3",
   "language": "python",
   "name": "python3"
  },
  "language_info": {
   "codemirror_mode": {
    "name": "ipython",
    "version": 3
   },
   "file_extension": ".py",
   "mimetype": "text/x-python",
   "name": "python",
   "nbconvert_exporter": "python",
   "pygments_lexer": "ipython3",
   "version": "3.11.10"
  }
 },
 "nbformat": 4,
 "nbformat_minor": 2
}
