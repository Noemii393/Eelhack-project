{
 "cells": [
  {
   "cell_type": "markdown",
   "metadata": {},
   "source": [
    "PART 1: INITIALIZING EXPERIMENT OBJECT"
   ]
  },
  {
   "cell_type": "code",
   "execution_count": 1,
   "metadata": {},
   "outputs": [
    {
     "name": "stderr",
     "output_type": "stream",
     "text": [
      "/bcbl/home/public/EEL-Hack/Scripts/for_github/eelhack_sentences.py:24: SettingWithCopyWarning: \n",
      "A value is trying to be set on a copy of a slice from a DataFrame.\n",
      "Try using .loc[row_indexer,col_indexer] = value instead\n",
      "\n",
      "See the caveats in the documentation: https://pandas.pydata.org/pandas-docs/stable/user_guide/indexing.html#returning-a-view-versus-a-copy\n",
      "  events_sentences[\"duration\"] = events_sentences [\"onset\"].diff().shift(-1) # calculate durations\n"
     ]
    },
    {
     "name": "stdout",
     "output_type": "stream",
     "text": [
      "INFO    :  *** Eelhack initialized with root /bcbl/home/public/EEL-Hack/eelbrain on 2025-03-28 12:54:04 ***\n",
      "INFO    :  Using eelbrain 0.39.11, mne 1.5.1.\n",
      "WARNING :    trigger times changed: sub-01/story\n",
      "WARNING :    raw file removed: sub-02/story\n",
      "WARNING :    trigger times changed: sub-03/story\n",
      "WARNING :    trigger times changed: sub-04/story\n",
      "WARNING :    trigger times changed: sub-05/story\n",
      "WARNING :    trigger times changed: sub-06/story\n",
      "WARNING :    trigger times changed: sub-08/story\n",
      "WARNING :    trigger times changed: sub-09/story\n",
      "WARNING :    trigger times changed: sub-10/story\n",
      "WARNING :    trigger times changed: sub-11/story\n",
      "WARNING :    trigger times changed: sub-12/story\n",
      "WARNING :    trigger times changed: sub-13/story\n",
      "WARNING :    trigger times changed: sub-14/story\n",
      "WARNING :    trigger times changed: sub-15/story\n",
      "WARNING :    trigger times changed: sub-16/story\n",
      "WARNING :    trigger times changed: sub-17/story\n",
      "WARNING :    trigger times changed: sub-19/story\n",
      "WARNING :    trigger times changed: sub-20/story\n",
      "WARNING :    trigger times changed: sub-21/story\n",
      "WARNING :    trigger times changed: sub-22/story\n",
      "WARNING :    trigger times changed: sub-23/story\n",
      "WARNING :    trigger times changed: sub-24/story\n",
      "WARNING :    trigger times changed: sub-26/story\n",
      "WARNING :    trigger times changed: sub-27/story\n",
      "WARNING :    trigger times changed: sub-28/story\n",
      "WARNING :    trigger times changed: sub-30/story\n",
      "WARNING :    trigger times changed: sub-31/story\n",
      "WARNING :    trigger times changed: sub-32/story\n",
      "WARNING :    trigger times changed: sub-33/story\n",
      "WARNING :    raw file removed: sub-34/story\n",
      "WARNING :    Group all changed:\n",
      "WARNING :      Members removed: sub-02, sub-34\n",
      "INFO    :  Deleting 29 invalid cache files...\n"
     ]
    }
   ],
   "source": [
    "import os\n",
    "from eelbrain import *\n",
    "\n",
    "os.chdir('/bcbl/home/public/EEL-Hack/Scripts/for_github/')\n",
    "\n",
    "from eelhack_sentences import *"
   ]
  },
  {
   "cell_type": "code",
   "execution_count": null,
   "metadata": {},
   "outputs": [],
   "source": [
    "data = eelhack.load_events()\n",
    "epochs = eelhack.load_epochs()"
   ]
  },
  {
   "cell_type": "code",
   "execution_count": null,
   "metadata": {},
   "outputs": [],
   "source": [
    "epochs_sub13 = eelhack.load_epochs(subject = \"sub-13\") # how to subset a single subject  \n",
    "epochs_sub13.head()"
   ]
  },
  {
   "cell_type": "markdown",
   "metadata": {},
   "source": [
    "PART 2: VISUALIZING THE DATAFRAMES"
   ]
  },
  {
   "cell_type": "code",
   "execution_count": null,
   "metadata": {},
   "outputs": [],
   "source": [
    "data.head()\n"
   ]
  },
  {
   "cell_type": "code",
   "execution_count": null,
   "metadata": {},
   "outputs": [],
   "source": [
    "epochs.head()"
   ]
  },
  {
   "cell_type": "code",
   "execution_count": 3,
   "metadata": {},
   "outputs": [],
   "source": [
    "epochs.save_pickled('/bcbl/home/public/EEL-Hack/Scripts/epochs_all.pickle') # We save the epochs "
   ]
  },
  {
   "cell_type": "code",
   "execution_count": 3,
   "metadata": {},
   "outputs": [],
   "source": [
    "epochs_sub13.save_pickled('/bcbl/home/public/EEL-Hack/Scripts/epochs_sub13.pickle') # We save the epochs "
   ]
  },
  {
   "cell_type": "markdown",
   "metadata": {},
   "source": [
    "PART 3: COMPUTING TRF % plotting"
   ]
  },
  {
   "cell_type": "code",
   "execution_count": null,
   "metadata": {},
   "outputs": [],
   "source": [
    "trf = eelhack.load_trfs( subject = 'all', x = 'auditory-envelope', **PARAMETERS, make=True) # The parameters are specified in the 'eelhack_sentences' script  "
   ]
  },
  {
   "cell_type": "code",
   "execution_count": 5,
   "metadata": {},
   "outputs": [
    {
     "data": {
      "text/html": [
       "<figure><table border=\"1\" frame=\"hsides\" rules=\"none\" cellpadding=\"2\"><tr>\n",
       "<td style=\"text-align:left\">subject</td>\n",
       "<td style=\"text-align:left\">epoch</td>\n",
       "</tr>\n",
       "<tr>\n",
       "<td style=\"text-align:left\">sub-01</td>\n",
       "<td style=\"text-align:left\">sentences</td>\n",
       "</tr>\n",
       "<tr>\n",
       "<td style=\"text-align:left\">sub-03</td>\n",
       "<td style=\"text-align:left\">sentences</td>\n",
       "</tr>\n",
       "<tr>\n",
       "<td style=\"text-align:left\">sub-04</td>\n",
       "<td style=\"text-align:left\">sentences</td>\n",
       "</tr>\n",
       "<tr>\n",
       "<td style=\"text-align:left\">sub-05</td>\n",
       "<td style=\"text-align:left\">sentences</td>\n",
       "</tr>\n",
       "<tr>\n",
       "<td style=\"text-align:left\">sub-06</td>\n",
       "<td style=\"text-align:left\">sentences</td>\n",
       "</tr>\n",
       "<tr>\n",
       "<td style=\"text-align:left\">sub-08</td>\n",
       "<td style=\"text-align:left\">sentences</td>\n",
       "</tr>\n",
       "<tr>\n",
       "<td style=\"text-align:left\">sub-09</td>\n",
       "<td style=\"text-align:left\">sentences</td>\n",
       "</tr>\n",
       "<tr>\n",
       "<td style=\"text-align:left\">sub-10</td>\n",
       "<td style=\"text-align:left\">sentences</td>\n",
       "</tr>\n",
       "<tr>\n",
       "<td style=\"text-align:left\">sub-11</td>\n",
       "<td style=\"text-align:left\">sentences</td>\n",
       "</tr>\n",
       "<tr>\n",
       "<td style=\"text-align:left\">sub-12</td>\n",
       "<td style=\"text-align:left\">sentences</td>\n",
       "</tr>\n",
       "<tr>\n",
       "<td style=\"text-align:left\">sub-13</td>\n",
       "<td style=\"text-align:left\">sentences</td>\n",
       "</tr>\n",
       "<tr>\n",
       "<td style=\"text-align:left\">sub-14</td>\n",
       "<td style=\"text-align:left\">sentences</td>\n",
       "</tr>\n",
       "<tr>\n",
       "<td style=\"text-align:left\">sub-15</td>\n",
       "<td style=\"text-align:left\">sentences</td>\n",
       "</tr>\n",
       "<tr>\n",
       "<td style=\"text-align:left\">sub-16</td>\n",
       "<td style=\"text-align:left\">sentences</td>\n",
       "</tr>\n",
       "<tr>\n",
       "<td style=\"text-align:left\">sub-17</td>\n",
       "<td style=\"text-align:left\">sentences</td>\n",
       "</tr>\n",
       "<tr>\n",
       "<td style=\"text-align:left\">sub-19</td>\n",
       "<td style=\"text-align:left\">sentences</td>\n",
       "</tr>\n",
       "<tr>\n",
       "<td style=\"text-align:left\">sub-20</td>\n",
       "<td style=\"text-align:left\">sentences</td>\n",
       "</tr>\n",
       "<tr>\n",
       "<td style=\"text-align:left\">sub-21</td>\n",
       "<td style=\"text-align:left\">sentences</td>\n",
       "</tr>\n",
       "<tr>\n",
       "<td style=\"text-align:left\">sub-22</td>\n",
       "<td style=\"text-align:left\">sentences</td>\n",
       "</tr>\n",
       "<tr>\n",
       "<td style=\"text-align:left\">sub-23</td>\n",
       "<td style=\"text-align:left\">sentences</td>\n",
       "</tr>\n",
       "<tr>\n",
       "<td style=\"text-align:left\">sub-24</td>\n",
       "<td style=\"text-align:left\">sentences</td>\n",
       "</tr>\n",
       "<tr>\n",
       "<td style=\"text-align:left\">sub-26</td>\n",
       "<td style=\"text-align:left\">sentences</td>\n",
       "</tr>\n",
       "<tr>\n",
       "<td style=\"text-align:left\">sub-27</td>\n",
       "<td style=\"text-align:left\">sentences</td>\n",
       "</tr>\n",
       "<tr>\n",
       "<td style=\"text-align:left\">sub-28</td>\n",
       "<td style=\"text-align:left\">sentences</td>\n",
       "</tr>\n",
       "<tr>\n",
       "<td style=\"text-align:left\">sub-30</td>\n",
       "<td style=\"text-align:left\">sentences</td>\n",
       "</tr>\n",
       "<tr>\n",
       "<td style=\"text-align:left\">sub-31</td>\n",
       "<td style=\"text-align:left\">sentences</td>\n",
       "</tr>\n",
       "<tr>\n",
       "<td style=\"text-align:left\">sub-32</td>\n",
       "<td style=\"text-align:left\">sentences</td>\n",
       "</tr>\n",
       "<tr>\n",
       "<td style=\"text-align:left\">sub-33</td>\n",
       "<td style=\"text-align:left\">sentences</td>\n",
       "</tr></table>\n",
       "<figcaption>NDVars: r, residual, det, z, gammatone_1, gammatonon_1</figcaption></figure>"
      ],
      "text/plain": [
       "<Dataset 'model0' (28 cases) 'subject':F, 'epoch':F, 'r':Vnd, 'residual':Vnd, 'det':Vnd, 'z':Vnd, 'gammatone_1':Vnd, 'gammatonon_1':Vnd>"
      ]
     },
     "execution_count": 5,
     "metadata": {},
     "output_type": "execute_result"
    }
   ],
   "source": [
    "trf"
   ]
  },
  {
   "cell_type": "code",
   "execution_count": 7,
   "metadata": {},
   "outputs": [
    {
     "data": {
      "image/png": "[encoded data removed]",
      "text/plain": [
       "<Figure size 800x400 with 1 Axes>"
      ]
     },
     "metadata": {},
     "output_type": "display_data"
    }
   ],
   "source": [
    "trf_temp = trf['gammatonon_1'].sub(sensor='Cz')\n",
    "\n",
    "p = plot.UTSStat(trf_temp)"
   ]
  },
  {
   "cell_type": "code",
   "execution_count": null,
   "metadata": {},
   "outputs": [],
   "source": [
    "p = plot.UTS(trf_temp)"
   ]
  }
 ],
 "metadata": {
  "kernelspec": {
   "display_name": "Python 3",
   "language": "python",
   "name": "python3"
  },
  "language_info": {
   "codemirror_mode": {
    "name": "ipython",
    "version": 3
   },
   "file_extension": ".py",
   "mimetype": "text/x-python",
   "name": "python",
   "nbconvert_exporter": "python",
   "pygments_lexer": "ipython3",
   "version": "3.11.10"
  }
 },
 "nbformat": 4,
 "nbformat_minor": 2
}
